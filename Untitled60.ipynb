{
  "nbformat": 4,
  "nbformat_minor": 0,
  "metadata": {
    "colab": {
      "provenance": []
    },
    "kernelspec": {
      "name": "python3",
      "display_name": "Python 3"
    },
    "language_info": {
      "name": "python"
    }
  },
  "cells": [
    {
      "cell_type": "code",
      "execution_count": 1,
      "metadata": {
        "id": "7xI6xsmnDF2A"
      },
      "outputs": [],
      "source": [
        "csv_content = \"\"\"Data, Produto, Quantidade, Preco Unitario\n",
        "2025-01-01, Camiseta, 3, 50.0\n",
        "2025-01-02, Calça, 2, 100.0\n",
        "2025-01-03, Tênis, 1,\n",
        "2025-01-04, Jaqueta, 5, 200.0\n",
        "2025-01-05, Camiseta, 2, 50.0\n",
        "\"\"\"\n",
        "\n",
        "with open(\"vendas.csv\", \"w\") as f:\n",
        "    f.write(csv_content)\n"
      ]
    },
    {
      "cell_type": "code",
      "source": [
        "import pandas as pd\n",
        "\n",
        "# EXTRAÇÃO\n",
        "df = pd.read_csv('vendas.csv')\n",
        "\n",
        "# TRANSFORMAÇÃO\n",
        "df.columns = [col.strip().lower().replace(\" \", \"_\") for col in df.columns]\n",
        "df['preco_unitario'] = df['preco_unitario'].fillna(0)\n",
        "df['valor_total'] = df['quantidade'] * df['preco_unitario']\n",
        "\n",
        "# CARGA\n",
        "df.to_csv('vendas_tratadas.csv', index=False)\n",
        "\n",
        "# Visualização final\n",
        "print(\"ETL Finalizado. Primeiras linhas:\")\n",
        "print(df.head())\n"
      ],
      "metadata": {
        "colab": {
          "base_uri": "https://localhost:8080/"
        },
        "id": "bEB1BLKhDSec",
        "outputId": "e9ff593d-c4c2-48ce-ed1c-dcf2585f5ca6"
      },
      "execution_count": 2,
      "outputs": [
        {
          "output_type": "stream",
          "name": "stdout",
          "text": [
            "ETL Finalizado. Primeiras linhas:\n",
            "         data    produto  quantidade  preco_unitario  valor_total\n",
            "0  2025-01-01   Camiseta           3            50.0        150.0\n",
            "1  2025-01-02      Calça           2           100.0        200.0\n",
            "2  2025-01-03      Tênis           1             0.0          0.0\n",
            "3  2025-01-04    Jaqueta           5           200.0       1000.0\n",
            "4  2025-01-05   Camiseta           2            50.0        100.0\n"
          ]
        }
      ]
    }
  ]
}